{
  "nbformat": 4,
  "nbformat_minor": 0,
  "metadata": {
    "colab": {
      "provenance": []
    },
    "kernelspec": {
      "name": "python3",
      "display_name": "Python 3"
    },
    "language_info": {
      "name": "python"
    }
  },
  "cells": [
    {
      "cell_type": "code",
      "execution_count": null,
      "metadata": {
        "id": "84nUGYDuFP3v"
      },
      "outputs": [],
      "source": []
    },
    {
      "cell_type": "code",
      "source": [
        "import pandas as pd\n",
        "from sklearn.model_selection import train_test_split\n",
        "from sklearn.linear_model import LinearRegression\n",
        "from sklearn.metrics import mean_squared_error\n",
        "\n",
        "# Load your dataset into a pandas DataFrame\n",
        "# For example, if you have a CSV file named 'house_prices.csv', you can load it like this:\n",
        "# df = pd.read_csv('house_prices.csv')\n",
        "\n",
        "# Assuming df is your DataFrame with relevant features and target variable\n",
        "# For this example, let's assume 'Price' is the target variable and other columns are features\n",
        "\n",
        "# Separate features (X) and target variable (y)\n",
        "X = df.drop('Price', axis=1)  # Features\n",
        "y = df['Price']               # Target variable\n",
        "\n",
        "# Split the dataset into training and testing sets (80% training, 20% testing)\n",
        "X_train, X_test, y_train, y_test = train_test_split(X, y, test_size=0.2, random_state=42)\n",
        "\n",
        "# Create a linear regression model\n",
        "model = LinearRegression()\n",
        "\n",
        "# Train the model on the training data\n",
        "model.fit(X_train, y_train)\n",
        "\n",
        "# Make predictions on the testing data\n",
        "predictions = model.predict(X_test)\n",
        "\n",
        "# Evaluate the model\n",
        "mse = mean_squared_error(y_test, predictions)\n",
        "print(\"Mean Squared Error:\", mse)\n",
        "\n",
        "# Optionally, you can print the model coefficients and intercept\n",
        "# print(\"Coefficients:\", model.coef_)\n",
        "# print(\"Intercept:\", model.intercept_)\n",
        "\n"
      ],
      "metadata": {
        "colab": {
          "base_uri": "https://localhost:8080/"
        },
        "id": "waTVPsaB-lLD",
        "outputId": "ec54cc43-f99c-4a39-e04d-cd6486c86408"
      },
      "execution_count": 3,
      "outputs": [
        {
          "output_type": "stream",
          "name": "stdout",
          "text": [
            "Mean Squared Error: 1111.111111111758\n"
          ]
        }
      ]
    },
    {
      "cell_type": "code",
      "source": [
        "import pandas as pd\n",
        "\n",
        "# Create a dictionary with sample data\n",
        "data = {\n",
        "    'Area': [1000, 1500, 1200, 1800, 1350],\n",
        "    'Bedrooms': [2, 3, 2, 4, 3],\n",
        "    'Bathrooms': [1, 2, 1, 3, 2],\n",
        "    'Price': [50000, 75000, 60000, 90000, 68000]\n",
        "}\n",
        "\n",
        "# Create a DataFrame from the dictionary\n",
        "df = pd.DataFrame(data)\n",
        "\n",
        "# Display the DataFrame\n",
        "print(df)\n"
      ],
      "metadata": {
        "colab": {
          "base_uri": "https://localhost:8080/"
        },
        "id": "LwKkyrV_Frbx",
        "outputId": "d591da1d-434b-446f-91d2-90a764f6d916"
      },
      "execution_count": 2,
      "outputs": [
        {
          "output_type": "stream",
          "name": "stdout",
          "text": [
            "   Area  Bedrooms  Bathrooms  Price\n",
            "0  1000         2          1  50000\n",
            "1  1500         3          2  75000\n",
            "2  1200         2          1  60000\n",
            "3  1800         4          3  90000\n",
            "4  1350         3          2  68000\n"
          ]
        }
      ]
    }
  ]
}